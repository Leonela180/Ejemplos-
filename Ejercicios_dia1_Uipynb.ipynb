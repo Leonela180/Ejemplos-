{
  "nbformat": 4,
  "nbformat_minor": 0,
  "metadata": {
    "colab": {
      "provenance": [],
      "authorship_tag": "ABX9TyNlW9ciibHyaFK+kxt6B+Dg",
      "include_colab_link": true
    },
    "kernelspec": {
      "name": "python3",
      "display_name": "Python 3"
    },
    "language_info": {
      "name": "python"
    }
  },
  "cells": [
    {
      "cell_type": "markdown",
      "metadata": {
        "id": "view-in-github",
        "colab_type": "text"
      },
      "source": [
        "<a href=\"https://colab.research.google.com/github/Leonela180/Ejemplos-/blob/main/Ejercicios_dia1_Uipynb.ipynb\" target=\"_parent\"><img src=\"https://colab.research.google.com/assets/colab-badge.svg\" alt=\"Open In Colab\"/></a>"
      ]
    },
    {
      "cell_type": "code",
      "execution_count": null,
      "metadata": {
        "id": "SX-LsoWMumOM"
      },
      "outputs": [],
      "source": []
    },
    {
      "cell_type": "markdown",
      "source": [
        "**Numpy, libreria de ciencia de datos**"
      ],
      "metadata": {
        "id": "mDeeFN17us8a"
      }
    },
    {
      "cell_type": "code",
      "source": [
        "import numpy as np\n",
        "#pip install numpy"
      ],
      "metadata": {
        "id": "Pi312Cbwu2Hl"
      },
      "execution_count": null,
      "outputs": []
    },
    {
      "cell_type": "markdown",
      "source": [
        "ARRAY DE 1 DIMENSION"
      ],
      "metadata": {
        "id": "rk_XnFZUwsTC"
      }
    },
    {
      "cell_type": "code",
      "source": [
        "array_id=np.array([10,20,30])\n",
        "print(array_id)"
      ],
      "metadata": {
        "colab": {
          "base_uri": "https://localhost:8080/"
        },
        "id": "Y26BebRpvn3e",
        "outputId": "449a6bdd-af7e-4aae-be08-8219f5114d9d"
      },
      "execution_count": null,
      "outputs": [
        {
          "output_type": "stream",
          "name": "stdout",
          "text": [
            "[10 20 30]\n"
          ]
        }
      ]
    },
    {
      "cell_type": "code",
      "source": [
        "array_id"
      ],
      "metadata": {
        "colab": {
          "base_uri": "https://localhost:8080/"
        },
        "id": "eh8N6QNBwVEL",
        "outputId": "9616a4ef-332f-4041-8ef7-c62d7f73fbab"
      },
      "execution_count": null,
      "outputs": [
        {
          "output_type": "execute_result",
          "data": {
            "text/plain": [
              "array([10, 20, 30])"
            ]
          },
          "metadata": {},
          "execution_count": 4
        }
      ]
    },
    {
      "cell_type": "markdown",
      "source": [
        "ARRAYS DE 2 DIMENSIONES"
      ],
      "metadata": {
        "id": "nLV4e1jiwl5a"
      }
    },
    {
      "cell_type": "code",
      "source": [
        "array_2d=np.array([(10,20,30),(50,60,70)])\n",
        "array_2d"
      ],
      "metadata": {
        "colab": {
          "base_uri": "https://localhost:8080/"
        },
        "id": "ZNDSO7vdw6rD",
        "outputId": "8a611056-1a88-4e57-e3dc-217799ac1a6f"
      },
      "execution_count": null,
      "outputs": [
        {
          "output_type": "execute_result",
          "data": {
            "text/plain": [
              "array([[10, 20, 30],\n",
              "       [50, 60, 70]])"
            ]
          },
          "metadata": {},
          "execution_count": 5
        }
      ]
    },
    {
      "cell_type": "markdown",
      "source": [
        "ARRAY DE 3 DIMENCIONES"
      ],
      "metadata": {
        "id": "3JhsZfgdxssU"
      }
    },
    {
      "cell_type": "code",
      "source": [
        "array_3d=np.array([(10.6,20,30),(40,50,60),(70,80,90)],dtype=float)\n",
        "array_3d"
      ],
      "metadata": {
        "colab": {
          "base_uri": "https://localhost:8080/"
        },
        "id": "Wp8oMcfxxyjk",
        "outputId": "bfeda919-7ec9-4ee4-95a6-5d8582380a8a"
      },
      "execution_count": null,
      "outputs": [
        {
          "output_type": "execute_result",
          "data": {
            "text/plain": [
              "array([[10.6, 20. , 30. ],\n",
              "       [40. , 50. , 60. ],\n",
              "       [70. , 80. , 90. ]])"
            ]
          },
          "metadata": {},
          "execution_count": 8
        }
      ]
    },
    {
      "cell_type": "markdown",
      "source": [
        "ARRAY CON CEROS DE 3 FILAS Y 4 COLUMNAS"
      ],
      "metadata": {
        "id": "cISxvMD_4W9E"
      }
    },
    {
      "cell_type": "code",
      "source": [
        "np.zeros((3,4))"
      ],
      "metadata": {
        "colab": {
          "base_uri": "https://localhost:8080/"
        },
        "id": "O1ZEjHeD4fQS",
        "outputId": "a1924990-cc5a-492c-a124-67620d722b23"
      },
      "execution_count": null,
      "outputs": [
        {
          "output_type": "execute_result",
          "data": {
            "text/plain": [
              "array([[0., 0., 0., 0.],\n",
              "       [0., 0., 0., 0.],\n",
              "       [0., 0., 0., 0.]])"
            ]
          },
          "metadata": {},
          "execution_count": 9
        }
      ]
    },
    {
      "cell_type": "code",
      "source": [
        "print(np.zeros((4,5)))"
      ],
      "metadata": {
        "colab": {
          "base_uri": "https://localhost:8080/"
        },
        "id": "-5TUV3VL4qRl",
        "outputId": "703d31a7-63da-4e24-fc69-7b3eac8774a9"
      },
      "execution_count": null,
      "outputs": [
        {
          "output_type": "stream",
          "name": "stdout",
          "text": [
            "[[0. 0. 0. 0. 0.]\n",
            " [0. 0. 0. 0. 0.]\n",
            " [0. 0. 0. 0. 0.]\n",
            " [0. 0. 0. 0. 0.]]\n"
          ]
        }
      ]
    },
    {
      "cell_type": "markdown",
      "source": [
        "ARRAY DE UNOS CON 2 DIMENSIONES DE 4 FILAS 5 COLUMNAS"
      ],
      "metadata": {
        "id": "ZyKMBH3940rM"
      }
    },
    {
      "cell_type": "code",
      "source": [
        "np.ones((2,4,5)) # cantidad, fila, columna NP=MODULO"
      ],
      "metadata": {
        "colab": {
          "base_uri": "https://localhost:8080/"
        },
        "id": "wf9CHj4S49et",
        "outputId": "807b32dd-82b8-41e8-d1c2-3ee6602d3aef"
      },
      "execution_count": null,
      "outputs": [
        {
          "output_type": "execute_result",
          "data": {
            "text/plain": [
              "array([[[1., 1., 1., 1., 1.],\n",
              "        [1., 1., 1., 1., 1.],\n",
              "        [1., 1., 1., 1., 1.],\n",
              "        [1., 1., 1., 1., 1.]],\n",
              "\n",
              "       [[1., 1., 1., 1., 1.],\n",
              "        [1., 1., 1., 1., 1.],\n",
              "        [1., 1., 1., 1., 1.],\n",
              "        [1., 1., 1., 1., 1.]]])"
            ]
          },
          "metadata": {},
          "execution_count": 12
        }
      ]
    },
    {
      "cell_type": "markdown",
      "source": [
        "ARRAY CON INTERVALOS Y SALTOS"
      ],
      "metadata": {
        "id": "puLIgoyN5WJE"
      }
    },
    {
      "cell_type": "code",
      "source": [
        "np.arange(11,30,2) # del 11 al 30 de 2 en 2"
      ],
      "metadata": {
        "colab": {
          "base_uri": "https://localhost:8080/"
        },
        "id": "JNXVVl8f5Z5G",
        "outputId": "4da5ca47-7fab-410c-8d5d-f663b01e9e42"
      },
      "execution_count": null,
      "outputs": [
        {
          "output_type": "execute_result",
          "data": {
            "text/plain": [
              "array([11, 13, 15, 17, 19, 21, 23, 25, 27, 29])"
            ]
          },
          "metadata": {},
          "execution_count": 13
        }
      ]
    },
    {
      "cell_type": "markdown",
      "source": [
        "**Practica hallar primos**"
      ],
      "metadata": {
        "id": "aFLjTqRT5-wu"
      }
    },
    {
      "cell_type": "code",
      "source": [
        "np.arange(15,30)\n",
        "\n"
      ],
      "metadata": {
        "colab": {
          "base_uri": "https://localhost:8080/"
        },
        "id": "2umlqePM6Cxw",
        "outputId": "1c9de564-a315-4bc8-d0f2-01954326d631"
      },
      "execution_count": null,
      "outputs": [
        {
          "output_type": "execute_result",
          "data": {
            "text/plain": [
              "array([15, 16, 17, 18, 19, 20, 21, 22, 23, 24, 25, 26, 27, 28, 29])"
            ]
          },
          "metadata": {},
          "execution_count": 39
        }
      ]
    },
    {
      "cell_type": "markdown",
      "source": [
        "ARRAY CON INTERVALO Y DIVISIONES"
      ],
      "metadata": {
        "id": "7CHT6tvn789z"
      }
    },
    {
      "cell_type": "code",
      "source": [
        "np.linspace(0,4,7)"
      ],
      "metadata": {
        "colab": {
          "base_uri": "https://localhost:8080/"
        },
        "id": "iT6dbGTb8A47",
        "outputId": "b27329ca-1193-4317-f59d-9d9e59747da1"
      },
      "execution_count": null,
      "outputs": [
        {
          "output_type": "execute_result",
          "data": {
            "text/plain": [
              "array([0.        , 0.66666667, 1.33333333, 2.        , 2.66666667,\n",
              "       3.33333333, 4.        ])"
            ]
          },
          "metadata": {},
          "execution_count": 16
        }
      ]
    },
    {
      "cell_type": "markdown",
      "source": [
        "ARRAY CON VALORES DADOS\n"
      ],
      "metadata": {
        "id": "gLIwvzZ-8mUS"
      }
    },
    {
      "cell_type": "code",
      "source": [
        "np.full((3,3),7)"
      ],
      "metadata": {
        "colab": {
          "base_uri": "https://localhost:8080/"
        },
        "id": "hFgyfwed8szy",
        "outputId": "a458b0c5-41a4-4ce0-b962-6d480d0bcb58"
      },
      "execution_count": null,
      "outputs": [
        {
          "output_type": "execute_result",
          "data": {
            "text/plain": [
              "array([[7, 7, 7],\n",
              "       [7, 7, 7],\n",
              "       [7, 7, 7]])"
            ]
          },
          "metadata": {},
          "execution_count": 17
        }
      ]
    },
    {
      "cell_type": "markdown",
      "source": [
        "ARRAY CON MATRIZ IDENTIDAD, DIAGONA DE UNOS\n"
      ],
      "metadata": {
        "id": "k6Tx6iSk87Ss"
      }
    },
    {
      "cell_type": "code",
      "source": [
        "1-np.eye((3))"
      ],
      "metadata": {
        "colab": {
          "base_uri": "https://localhost:8080/"
        },
        "id": "T_ei0uVf9EUq",
        "outputId": "1e8e0397-87d0-4c97-80d4-7a24b551752c"
      },
      "execution_count": null,
      "outputs": [
        {
          "output_type": "execute_result",
          "data": {
            "text/plain": [
              "array([[0., 1., 1.],\n",
              "       [1., 0., 1.],\n",
              "       [1., 1., 0.]])"
            ]
          },
          "metadata": {},
          "execution_count": 37
        }
      ]
    },
    {
      "cell_type": "markdown",
      "source": [
        "ARRAY VALORES ALEATORIOS 0-1"
      ],
      "metadata": {
        "id": "Svc-STqC-vMs"
      }
    },
    {
      "cell_type": "code",
      "source": [
        "np.random.random((4,4))"
      ],
      "metadata": {
        "colab": {
          "base_uri": "https://localhost:8080/"
        },
        "id": "izzm7ySN-01c",
        "outputId": "ada8c959-8171-40d9-8444-29dcaee19043"
      },
      "execution_count": null,
      "outputs": [
        {
          "output_type": "execute_result",
          "data": {
            "text/plain": [
              "array([[9.23550857e-01, 3.51736606e-01, 9.93089447e-01, 1.66232346e-01],\n",
              "       [3.65706114e-01, 9.97275744e-01, 5.22838683e-01, 4.85089957e-01],\n",
              "       [4.64193365e-01, 5.60819537e-01, 8.83073387e-01, 8.92530502e-04],\n",
              "       [2.70039409e-01, 2.26959544e-01, 9.44881809e-01, 2.25140289e-01]])"
            ]
          },
          "metadata": {},
          "execution_count": 34
        }
      ]
    },
    {
      "cell_type": "markdown",
      "source": [
        "ARRAY DE NUMEROS VACION 4*3"
      ],
      "metadata": {
        "id": "mLSjl6Nj_JMN"
      }
    },
    {
      "cell_type": "code",
      "source": [
        "np.empty((4,3))"
      ],
      "metadata": {
        "colab": {
          "base_uri": "https://localhost:8080/"
        },
        "id": "W3kYOu02_IMV",
        "outputId": "b2bf7448-3f5f-4d78-b5e1-5377fa144373"
      },
      "execution_count": null,
      "outputs": [
        {
          "output_type": "execute_result",
          "data": {
            "text/plain": [
              "array([[0., 0., 0.],\n",
              "       [0., 0., 0.],\n",
              "       [0., 0., 0.],\n",
              "       [0., 0., 0.]])"
            ]
          },
          "metadata": {},
          "execution_count": 40
        }
      ]
    },
    {
      "cell_type": "markdown",
      "source": [
        "GRABAR Y CARGAR"
      ],
      "metadata": {
        "id": "WOzoY1D3Ba3w"
      }
    },
    {
      "cell_type": "code",
      "source": [
        "#GRABAR\n",
        "np.save('mi_array_3d',array_3d)#se puede llamar a las variables anteriores"
      ],
      "metadata": {
        "id": "QDxStd3tBrSY"
      },
      "execution_count": null,
      "outputs": []
    },
    {
      "cell_type": "code",
      "source": [
        "#CARGAR\n",
        "mi_array=np.load('mi_array_3d.npy')\n",
        "mi_array"
      ],
      "metadata": {
        "colab": {
          "base_uri": "https://localhost:8080/"
        },
        "id": "UV0hl3eNCWwX",
        "outputId": "0d7f921c-58fa-4c87-b370-3292d7b90894"
      },
      "execution_count": null,
      "outputs": [
        {
          "output_type": "execute_result",
          "data": {
            "text/plain": [
              "array([[10.6, 20. , 30. ],\n",
              "       [40. , 50. , 60. ],\n",
              "       [70. , 80. , 90. ]])"
            ]
          },
          "metadata": {},
          "execution_count": 61
        }
      ]
    },
    {
      "cell_type": "markdown",
      "source": [
        "Llamando al array de dos dimensiones"
      ],
      "metadata": {
        "id": "EZVLknNsEQxC"
      }
    },
    {
      "cell_type": "code",
      "source": [
        "#GRABAR\n",
        "np.save('mi_array_3d',array_2d)"
      ],
      "metadata": {
        "id": "VgDd5ZEhEGBB"
      },
      "execution_count": null,
      "outputs": []
    },
    {
      "cell_type": "code",
      "source": [
        "#CARGAR\n",
        "mi_array=np.load('mi_array_3d.npy')\n",
        "mi_array"
      ],
      "metadata": {
        "colab": {
          "base_uri": "https://localhost:8080/"
        },
        "id": "krSqXnqeENCB",
        "outputId": "b54b63dd-dfbf-4274-fe53-77a75c707fda"
      },
      "execution_count": null,
      "outputs": [
        {
          "output_type": "execute_result",
          "data": {
            "text/plain": [
              "array([[10, 20, 30],\n",
              "       [50, 60, 70]])"
            ]
          },
          "metadata": {},
          "execution_count": 63
        }
      ]
    },
    {
      "cell_type": "markdown",
      "source": [
        "GRABAR Y CARGAR FICHEROS DE TEXTO\n"
      ],
      "metadata": {
        "id": "M1j-Z2EOE4lZ"
      }
    },
    {
      "cell_type": "code",
      "source": [
        "#GRABAR FICHERO DE TEXTO\n",
        "np.savetxt('mi_array.txt',array_2d,delimiter=\" \")"
      ],
      "metadata": {
        "id": "RSbPujiRE-bC"
      },
      "execution_count": null,
      "outputs": []
    },
    {
      "cell_type": "code",
      "source": [
        "#CARGAR DE FICHERO DE TEXTO\n",
        "np.loadtxt('mi_array.txt')"
      ],
      "metadata": {
        "colab": {
          "base_uri": "https://localhost:8080/"
        },
        "id": "2EqEZq3jGGe7",
        "outputId": "5336c596-9a04-4fee-ba50-5d14d453ce6d"
      },
      "execution_count": null,
      "outputs": [
        {
          "output_type": "execute_result",
          "data": {
            "text/plain": [
              "array([[10., 20., 30.],\n",
              "       [50., 60., 70.]])"
            ]
          },
          "metadata": {},
          "execution_count": 65
        }
      ]
    },
    {
      "cell_type": "markdown",
      "source": [
        "**EJERCICIOS PROPUESTOS -- CLASE 1 -- **"
      ],
      "metadata": {
        "id": "6oyOJoMjJn1l"
      }
    },
    {
      "cell_type": "code",
      "source": [
        "#ejercicio 1\n",
        "cursos=np.array([\"Matemáticas\",\"Física\",\"Química\",\"Historia\",\"Lengua\"])\n",
        "print(cursos)"
      ],
      "metadata": {
        "colab": {
          "base_uri": "https://localhost:8080/"
        },
        "id": "oM51_WVMJzol",
        "outputId": "1b11c47f-bd75-41c6-c00f-2384ee7c54f6"
      },
      "execution_count": 82,
      "outputs": [
        {
          "output_type": "stream",
          "name": "stdout",
          "text": [
            "['Matemáticas' 'Física' 'Química' 'Historia' 'Lengua']\n"
          ]
        }
      ]
    },
    {
      "cell_type": "code",
      "source": [
        "#ejercicio 2\n",
        "cursos=np.array([\"Matemáticas\",\"Física\",\"Química\",\"Historia\",\"Lengua\"])\n",
        "\n",
        "print(\"Yo estudio \",cursos[0],)\n",
        "print(\"Yo estudio \",cursos[1],)\n",
        "print(\"Yo estudio \",cursos[2],)\n",
        "print(\"Yo estudio \",cursos[3],)\n",
        "print(\"Yo estudio \",cursos[4],)\n"
      ],
      "metadata": {
        "colab": {
          "base_uri": "https://localhost:8080/"
        },
        "id": "gt1vjI7wMLbd",
        "outputId": "867d7a86-6dd0-497f-ae3d-6c64fe437b2d"
      },
      "execution_count": 93,
      "outputs": [
        {
          "output_type": "stream",
          "name": "stdout",
          "text": [
            "Yo estudio  Matemáticas\n",
            "Yo estudio  Física\n",
            "Yo estudio  Química\n",
            "Yo estudio  Historia\n",
            "Yo estudio  Lengua\n"
          ]
        }
      ]
    },
    {
      "cell_type": "code",
      "source": [
        "#ejercicio 3\n",
        "cursos=np.array([\"Matemáticas\",\"Física\",\"Química\",\"Historia\",\"Lengua\"])\n",
        "\n",
        "uno = input(\"Que nota saco en \"+cursos[0]+\": \")\n",
        "dos = input(\"Que nota saco en \"+cursos[1]+\": \")\n",
        "tres = input(\"Que nota saco en \"+cursos[2]+\": \")\n",
        "cuatro = input(\"Que nota saco en \"+cursos[3]+\": \")\n",
        "cinco = input(\"Que nota saco en \"+cursos[4]+\": \")\n",
        "print(\"------------------------------------\")\n",
        "print(\"En \"+cursos[0]+\" has sacado \"+uno)\n",
        "print(\"En \"+cursos[1]+\" has sacado \"+dos)\n",
        "print(\"En \"+cursos[2]+\" has sacado \"+tres)\n",
        "print(\"En \"+cursos[3]+\" has sacado \"+cuatro)\n",
        "print(\"En \"+cursos[4]+\" has sacado \"+cinco)\n",
        "\n"
      ],
      "metadata": {
        "colab": {
          "base_uri": "https://localhost:8080/"
        },
        "id": "sjyXaNpJO_uH",
        "outputId": "14c4417a-be4e-40fe-a630-d0b50bb00901"
      },
      "execution_count": 103,
      "outputs": [
        {
          "output_type": "stream",
          "name": "stdout",
          "text": [
            "Que nota saco en Matemáticas: 14\n",
            "Que nota saco en Física: 16\n",
            "Que nota saco en Química: 2\n",
            "Que nota saco en Historia: 4\n",
            "Que nota saco en Lengua: 5\n",
            "En Matemáticas has sacado 14\n",
            "En Física has sacado 16\n",
            "En Química has sacado 2\n",
            "En Historia has sacado 4\n",
            "En Lengua has sacado 5\n"
          ]
        }
      ]
    },
    {
      "cell_type": "code",
      "source": [
        "#ejercicio 4\n",
        "\n",
        "numeros = []\n",
        "\n",
        "for i in range(3):  # Suponiendo 6 números ganadores\n",
        "    numero =(input(f\"Introduce el número ganador {i+1}: \"))\n",
        "    numeros.append(numero)\n",
        "\n",
        "    array = np.array(numeros)\n",
        "    ordenena = np.sort(array)\n",
        "\n",
        "numeros.sort()\n",
        "print(\"Números ganadores ordenados:\", numeros)\n"
      ],
      "metadata": {
        "colab": {
          "base_uri": "https://localhost:8080/"
        },
        "id": "LkUIJFuNQtQ3",
        "outputId": "e95a2f11-2445-42a2-a696-b3b11508cf1b"
      },
      "execution_count": 122,
      "outputs": [
        {
          "output_type": "stream",
          "name": "stdout",
          "text": [
            "Introduce el número ganador 1: 15\n",
            "Introduce el número ganador 2: 6\n",
            "Introduce el número ganador 3: 1\n",
            "Números ganadores ordenados: ['1', '15', '6']\n"
          ]
        }
      ]
    },
    {
      "cell_type": "code",
      "source": [],
      "metadata": {
        "id": "Cy_Ab9NDbwyE"
      },
      "execution_count": null,
      "outputs": []
    },
    {
      "cell_type": "code",
      "source": [],
      "metadata": {
        "id": "zUpLoyBqbxJ6"
      },
      "execution_count": null,
      "outputs": []
    },
    {
      "cell_type": "code",
      "source": [],
      "metadata": {
        "id": "54wa32o1VHZh"
      },
      "execution_count": null,
      "outputs": []
    }
  ]
}