{
  "nbformat": 4,
  "nbformat_minor": 0,
  "metadata": {
    "colab": {
      "provenance": [],
      "authorship_tag": "ABX9TyOj8abacBsLEQJeL9UlGw8r",
      "include_colab_link": true
    },
    "kernelspec": {
      "name": "python3",
      "display_name": "Python 3"
    },
    "language_info": {
      "name": "python"
    }
  },
  "cells": [
    {
      "cell_type": "markdown",
      "metadata": {
        "id": "view-in-github",
        "colab_type": "text"
      },
      "source": [
        "<a href=\"https://colab.research.google.com/github/Leonela180/Ejemplos-/blob/main/Ejercicios_dia1_Uipynb.ipynb\" target=\"_parent\"><img src=\"https://colab.research.google.com/assets/colab-badge.svg\" alt=\"Open In Colab\"/></a>"
      ]
    },
    {
      "cell_type": "code",
      "execution_count": null,
      "metadata": {
        "id": "SX-LsoWMumOM"
      },
      "outputs": [],
      "source": []
    },
    {
      "cell_type": "markdown",
      "source": [
        "**Numpy, libreria de ciencia de datos**"
      ],
      "metadata": {
        "id": "mDeeFN17us8a"
      }
    },
    {
      "cell_type": "code",
      "source": [
        "import numpy as np\n",
        "#pip install numpy"
      ],
      "metadata": {
        "id": "Pi312Cbwu2Hl"
      },
      "execution_count": null,
      "outputs": []
    },
    {
      "cell_type": "markdown",
      "source": [
        "ARRAY DE 1 DIMENSION"
      ],
      "metadata": {
        "id": "rk_XnFZUwsTC"
      }
    },
    {
      "cell_type": "code",
      "source": [
        "array_id=np.array([10,20,30])\n",
        "print(array_id)"
      ],
      "metadata": {
        "colab": {
          "base_uri": "https://localhost:8080/"
        },
        "id": "Y26BebRpvn3e",
        "outputId": "56508c63-cba6-49e6-a8be-76c01f768f9a"
      },
      "execution_count": null,
      "outputs": [
        {
          "output_type": "stream",
          "name": "stdout",
          "text": [
            "[10 20 30]\n"
          ]
        }
      ]
    },
    {
      "cell_type": "code",
      "source": [
        "array_id"
      ],
      "metadata": {
        "colab": {
          "base_uri": "https://localhost:8080/"
        },
        "id": "eh8N6QNBwVEL",
        "outputId": "3bf7b881-21c6-4031-e3b6-83fada6c4d10"
      },
      "execution_count": null,
      "outputs": [
        {
          "output_type": "execute_result",
          "data": {
            "text/plain": [
              "array([10, 20, 30])"
            ]
          },
          "metadata": {},
          "execution_count": 3
        }
      ]
    },
    {
      "cell_type": "markdown",
      "source": [
        "ARRAYS DE 2 DIMENSIONES"
      ],
      "metadata": {
        "id": "nLV4e1jiwl5a"
      }
    },
    {
      "cell_type": "code",
      "source": [
        "array_2d=np.array([(10,20,30),(50,60,70)])\n",
        "array_2d"
      ],
      "metadata": {
        "colab": {
          "base_uri": "https://localhost:8080/"
        },
        "id": "ZNDSO7vdw6rD",
        "outputId": "1ef28436-d0ac-4f78-c73d-fed4f73f19fb"
      },
      "execution_count": null,
      "outputs": [
        {
          "output_type": "execute_result",
          "data": {
            "text/plain": [
              "array([[10, 20, 30],\n",
              "       [50, 60, 70]])"
            ]
          },
          "metadata": {},
          "execution_count": 4
        }
      ]
    },
    {
      "cell_type": "markdown",
      "source": [
        "ARRAY DE 3 DIMENCIONES"
      ],
      "metadata": {
        "id": "3JhsZfgdxssU"
      }
    },
    {
      "cell_type": "code",
      "source": [
        "array_3d=np.array([(10.6,20,30),(40,50,60),(70,80,90)],dtype=float)\n",
        "array_3d"
      ],
      "metadata": {
        "colab": {
          "base_uri": "https://localhost:8080/"
        },
        "id": "Wp8oMcfxxyjk",
        "outputId": "a35d6eb8-dc8e-4c0e-c5cd-5ea7cddf132d"
      },
      "execution_count": null,
      "outputs": [
        {
          "output_type": "execute_result",
          "data": {
            "text/plain": [
              "array([[10.6, 20. , 30. ],\n",
              "       [40. , 50. , 60. ],\n",
              "       [70. , 80. , 90. ]])"
            ]
          },
          "metadata": {},
          "execution_count": 51
        }
      ]
    },
    {
      "cell_type": "markdown",
      "source": [
        "ARRAY CON CEROS DE 3 FILAS Y 4 COLUMNAS"
      ],
      "metadata": {
        "id": "cISxvMD_4W9E"
      }
    },
    {
      "cell_type": "code",
      "source": [
        "np.zeros((3,4))"
      ],
      "metadata": {
        "colab": {
          "base_uri": "https://localhost:8080/"
        },
        "id": "O1ZEjHeD4fQS",
        "outputId": "2f5c0690-c169-4eca-f13b-d9358fcdb940"
      },
      "execution_count": null,
      "outputs": [
        {
          "output_type": "execute_result",
          "data": {
            "text/plain": [
              "array([[0., 0., 0., 0.],\n",
              "       [0., 0., 0., 0.],\n",
              "       [0., 0., 0., 0.]])"
            ]
          },
          "metadata": {},
          "execution_count": 6
        }
      ]
    },
    {
      "cell_type": "code",
      "source": [
        "print(np.zeros((4,5)))"
      ],
      "metadata": {
        "colab": {
          "base_uri": "https://localhost:8080/"
        },
        "id": "-5TUV3VL4qRl",
        "outputId": "3e2eec60-c4f6-4141-db6b-29498b16d000"
      },
      "execution_count": null,
      "outputs": [
        {
          "output_type": "stream",
          "name": "stdout",
          "text": [
            "[[0. 0. 0. 0. 0.]\n",
            " [0. 0. 0. 0. 0.]\n",
            " [0. 0. 0. 0. 0.]\n",
            " [0. 0. 0. 0. 0.]]\n"
          ]
        }
      ]
    },
    {
      "cell_type": "markdown",
      "source": [
        "ARRAY DE UNOS CON 2 DIMENSIONES DE 4 FILAS 5 COLUMNAS"
      ],
      "metadata": {
        "id": "ZyKMBH3940rM"
      }
    },
    {
      "cell_type": "code",
      "source": [
        "np.ones((2,4,5)) # cantidad, fila, columna NP=MODULO"
      ],
      "metadata": {
        "colab": {
          "base_uri": "https://localhost:8080/"
        },
        "id": "wf9CHj4S49et",
        "outputId": "c6046028-fa99-4ce0-f2ea-33058bd1a166"
      },
      "execution_count": null,
      "outputs": [
        {
          "output_type": "execute_result",
          "data": {
            "text/plain": [
              "array([[[1., 1., 1., 1., 1.],\n",
              "        [1., 1., 1., 1., 1.],\n",
              "        [1., 1., 1., 1., 1.],\n",
              "        [1., 1., 1., 1., 1.]],\n",
              "\n",
              "       [[1., 1., 1., 1., 1.],\n",
              "        [1., 1., 1., 1., 1.],\n",
              "        [1., 1., 1., 1., 1.],\n",
              "        [1., 1., 1., 1., 1.]]])"
            ]
          },
          "metadata": {},
          "execution_count": 8
        }
      ]
    },
    {
      "cell_type": "markdown",
      "source": [
        "ARRAY CON INTERVALOS Y SALTOS"
      ],
      "metadata": {
        "id": "puLIgoyN5WJE"
      }
    },
    {
      "cell_type": "code",
      "source": [
        "np.arange(11,30,2) # del 11 al 30 de 2 en 2"
      ],
      "metadata": {
        "colab": {
          "base_uri": "https://localhost:8080/"
        },
        "id": "JNXVVl8f5Z5G",
        "outputId": "69c84665-c15b-4536-b005-0f4c45b6c5de"
      },
      "execution_count": null,
      "outputs": [
        {
          "output_type": "execute_result",
          "data": {
            "text/plain": [
              "array([11, 13, 15, 17, 19, 21, 23, 25, 27, 29])"
            ]
          },
          "metadata": {},
          "execution_count": 9
        }
      ]
    },
    {
      "cell_type": "markdown",
      "source": [
        "**Practica hallar primos**"
      ],
      "metadata": {
        "id": "aFLjTqRT5-wu"
      }
    },
    {
      "cell_type": "code",
      "source": [
        "np.arange(15,30)\n",
        "\n"
      ],
      "metadata": {
        "colab": {
          "base_uri": "https://localhost:8080/"
        },
        "id": "2umlqePM6Cxw",
        "outputId": "469f9ac6-c77f-4020-b801-145b6639adb3"
      },
      "execution_count": null,
      "outputs": [
        {
          "output_type": "execute_result",
          "data": {
            "text/plain": [
              "array([15, 16, 17, 18, 19, 20, 21, 22, 23, 24, 25, 26, 27, 28, 29])"
            ]
          },
          "metadata": {},
          "execution_count": 10
        }
      ]
    },
    {
      "cell_type": "markdown",
      "source": [
        "ARRAY CON INTERVALO Y DIVISIONES"
      ],
      "metadata": {
        "id": "7CHT6tvn789z"
      }
    },
    {
      "cell_type": "code",
      "source": [
        "np.linspace(0,4,7)"
      ],
      "metadata": {
        "colab": {
          "base_uri": "https://localhost:8080/"
        },
        "id": "iT6dbGTb8A47",
        "outputId": "3a5c6eb4-323a-4f0d-e21f-af25277a9047"
      },
      "execution_count": null,
      "outputs": [
        {
          "output_type": "execute_result",
          "data": {
            "text/plain": [
              "array([0.        , 0.66666667, 1.33333333, 2.        , 2.66666667,\n",
              "       3.33333333, 4.        ])"
            ]
          },
          "metadata": {},
          "execution_count": 11
        }
      ]
    },
    {
      "cell_type": "markdown",
      "source": [
        "ARRAY CON VALORES DADOS\n"
      ],
      "metadata": {
        "id": "gLIwvzZ-8mUS"
      }
    },
    {
      "cell_type": "code",
      "source": [
        "np.full((3,3),7)"
      ],
      "metadata": {
        "colab": {
          "base_uri": "https://localhost:8080/"
        },
        "id": "hFgyfwed8szy",
        "outputId": "47bcf50a-75d0-47fa-c6a8-caf35dcbacb9"
      },
      "execution_count": null,
      "outputs": [
        {
          "output_type": "execute_result",
          "data": {
            "text/plain": [
              "array([[7, 7, 7],\n",
              "       [7, 7, 7],\n",
              "       [7, 7, 7]])"
            ]
          },
          "metadata": {},
          "execution_count": 12
        }
      ]
    },
    {
      "cell_type": "markdown",
      "source": [
        "ARRAY CON MATRIZ IDENTIDAD, DIAGONA DE UNOS\n"
      ],
      "metadata": {
        "id": "k6Tx6iSk87Ss"
      }
    },
    {
      "cell_type": "code",
      "source": [
        "1-np.eye((3))"
      ],
      "metadata": {
        "colab": {
          "base_uri": "https://localhost:8080/"
        },
        "id": "T_ei0uVf9EUq",
        "outputId": "3035b858-c24e-4058-a79c-69dc751b8c7a"
      },
      "execution_count": null,
      "outputs": [
        {
          "output_type": "execute_result",
          "data": {
            "text/plain": [
              "array([[0., 1., 1.],\n",
              "       [1., 0., 1.],\n",
              "       [1., 1., 0.]])"
            ]
          },
          "metadata": {},
          "execution_count": 13
        }
      ]
    },
    {
      "cell_type": "markdown",
      "source": [
        "ARRAY VALORES ALEATORIOS 0-1"
      ],
      "metadata": {
        "id": "Svc-STqC-vMs"
      }
    },
    {
      "cell_type": "code",
      "source": [
        "np.random.random((4,4))"
      ],
      "metadata": {
        "colab": {
          "base_uri": "https://localhost:8080/"
        },
        "id": "izzm7ySN-01c",
        "outputId": "8423e1c5-4c37-45f4-9018-511701d04f47"
      },
      "execution_count": null,
      "outputs": [
        {
          "output_type": "execute_result",
          "data": {
            "text/plain": [
              "array([[0.7056941 , 0.16876494, 0.37044405, 0.04266858],\n",
              "       [0.25886406, 0.72098159, 0.89546704, 0.66744405],\n",
              "       [0.14148966, 0.86509824, 0.86713178, 0.99005594],\n",
              "       [0.6620834 , 0.45422939, 0.84563487, 0.74662431]])"
            ]
          },
          "metadata": {},
          "execution_count": 14
        }
      ]
    },
    {
      "cell_type": "markdown",
      "source": [
        "ARRAY DE NUMEROS VACION 4*3"
      ],
      "metadata": {
        "id": "mLSjl6Nj_JMN"
      }
    },
    {
      "cell_type": "code",
      "source": [
        "np.empty((4,3))"
      ],
      "metadata": {
        "colab": {
          "base_uri": "https://localhost:8080/"
        },
        "id": "W3kYOu02_IMV",
        "outputId": "62086c80-51a0-4d7d-e52e-00a450084c70"
      },
      "execution_count": null,
      "outputs": [
        {
          "output_type": "execute_result",
          "data": {
            "text/plain": [
              "array([[0., 0., 0.],\n",
              "       [0., 0., 0.],\n",
              "       [0., 0., 0.],\n",
              "       [0., 0., 0.]])"
            ]
          },
          "metadata": {},
          "execution_count": 15
        }
      ]
    },
    {
      "cell_type": "markdown",
      "source": [
        "GRABAR Y CARGAR"
      ],
      "metadata": {
        "id": "WOzoY1D3Ba3w"
      }
    },
    {
      "cell_type": "code",
      "source": [
        "#GRABAR\n",
        "np.save('mi_array_3d',array_3d)#se puede llamar a las variables anteriores"
      ],
      "metadata": {
        "id": "QDxStd3tBrSY"
      },
      "execution_count": null,
      "outputs": []
    },
    {
      "cell_type": "code",
      "source": [
        "#CARGAR\n",
        "mi_array=np.load('mi_array_3d.npy')\n",
        "mi_array"
      ],
      "metadata": {
        "colab": {
          "base_uri": "https://localhost:8080/"
        },
        "id": "UV0hl3eNCWwX",
        "outputId": "9d0d99a9-e0d5-49fd-dca4-3e7ee2166037"
      },
      "execution_count": null,
      "outputs": [
        {
          "output_type": "execute_result",
          "data": {
            "text/plain": [
              "array([[10.6, 20. , 30. ],\n",
              "       [40. , 50. , 60. ],\n",
              "       [70. , 80. , 90. ]])"
            ]
          },
          "metadata": {},
          "execution_count": 17
        }
      ]
    },
    {
      "cell_type": "markdown",
      "source": [
        "Llamando al array de dos dimensiones"
      ],
      "metadata": {
        "id": "EZVLknNsEQxC"
      }
    },
    {
      "cell_type": "code",
      "source": [
        "#GRABAR\n",
        "np.save('mi_array_3d',array_2d)"
      ],
      "metadata": {
        "id": "VgDd5ZEhEGBB"
      },
      "execution_count": null,
      "outputs": []
    },
    {
      "cell_type": "code",
      "source": [
        "#CARGAR\n",
        "mi_array=np.load('mi_array_3d.npy')\n",
        "mi_array"
      ],
      "metadata": {
        "colab": {
          "base_uri": "https://localhost:8080/"
        },
        "id": "krSqXnqeENCB",
        "outputId": "8c96e419-a57a-4c90-f4e6-39f3db7b4019"
      },
      "execution_count": null,
      "outputs": [
        {
          "output_type": "execute_result",
          "data": {
            "text/plain": [
              "array([[10, 20, 30],\n",
              "       [50, 60, 70]])"
            ]
          },
          "metadata": {},
          "execution_count": 19
        }
      ]
    },
    {
      "cell_type": "markdown",
      "source": [
        "GRABAR Y CARGAR FICHEROS DE TEXTO\n"
      ],
      "metadata": {
        "id": "M1j-Z2EOE4lZ"
      }
    },
    {
      "cell_type": "code",
      "source": [
        "#GRABAR FICHERO DE TEXTO\n",
        "np.savetxt('mi_array.txt',array_2d,delimiter=\" \")"
      ],
      "metadata": {
        "id": "RSbPujiRE-bC"
      },
      "execution_count": null,
      "outputs": []
    },
    {
      "cell_type": "code",
      "source": [
        "#CARGAR DE FICHERO DE TEXTO\n",
        "np.loadtxt('mi_array.txt')"
      ],
      "metadata": {
        "colab": {
          "base_uri": "https://localhost:8080/"
        },
        "id": "2EqEZq3jGGe7",
        "outputId": "4d380390-0710-49e8-9d19-e1ffe7cabfc5"
      },
      "execution_count": null,
      "outputs": [
        {
          "output_type": "execute_result",
          "data": {
            "text/plain": [
              "array([[10., 20., 30.],\n",
              "       [50., 60., 70.]])"
            ]
          },
          "metadata": {},
          "execution_count": 21
        }
      ]
    },
    {
      "cell_type": "markdown",
      "source": [
        "# **DIA DOS DE CLASES------------------------------**"
      ],
      "metadata": {
        "id": "9_KSxI9ggpqP"
      }
    },
    {
      "cell_type": "markdown",
      "source": [
        "**TIPOS DE DATOS**"
      ],
      "metadata": {
        "id": "fYv3XeCDg0yV"
      }
    },
    {
      "cell_type": "code",
      "source": [
        "#Enteros\n",
        "np.int64"
      ],
      "metadata": {
        "id": "54wa32o1VHZh",
        "colab": {
          "base_uri": "https://localhost:8080/"
        },
        "outputId": "7d508df2-0f61-4f51-ca42-ce4b683374de"
      },
      "execution_count": null,
      "outputs": [
        {
          "output_type": "execute_result",
          "data": {
            "text/plain": [
              "numpy.int64"
            ]
          },
          "metadata": {},
          "execution_count": 25
        }
      ]
    },
    {
      "cell_type": "code",
      "source": [
        "#Decimal, flotante\n",
        "np.float64"
      ],
      "metadata": {
        "colab": {
          "base_uri": "https://localhost:8080/"
        },
        "id": "rF7MvKwehbD3",
        "outputId": "c4f0a9aa-c97d-4cfa-df1d-3fa4946f82c4"
      },
      "execution_count": null,
      "outputs": [
        {
          "output_type": "execute_result",
          "data": {
            "text/plain": [
              "numpy.float64"
            ]
          },
          "metadata": {},
          "execution_count": 26
        }
      ]
    },
    {
      "cell_type": "code",
      "source": [
        "# Complejos\n",
        "np.complex64"
      ],
      "metadata": {
        "colab": {
          "base_uri": "https://localhost:8080/"
        },
        "id": "wYHCJytrirgx",
        "outputId": "ff6d86e5-1917-454e-e332-f3aae0037ab6"
      },
      "execution_count": null,
      "outputs": [
        {
          "output_type": "execute_result",
          "data": {
            "text/plain": [
              "numpy.complex64"
            ]
          },
          "metadata": {},
          "execution_count": 27
        }
      ]
    },
    {
      "cell_type": "code",
      "source": [
        "#Booleanos\n",
        "np.bool_"
      ],
      "metadata": {
        "colab": {
          "base_uri": "https://localhost:8080/"
        },
        "id": "ulG2hnvDjL5u",
        "outputId": "32f4c625-4a43-446d-fb8f-b72c2cc7adb8"
      },
      "execution_count": null,
      "outputs": [
        {
          "output_type": "execute_result",
          "data": {
            "text/plain": [
              "numpy.bool"
            ]
          },
          "metadata": {},
          "execution_count": 29
        }
      ]
    },
    {
      "cell_type": "code",
      "source": [
        "#Objetos\n",
        "np.object_"
      ],
      "metadata": {
        "colab": {
          "base_uri": "https://localhost:8080/"
        },
        "id": "9Ky-NS-7lfiS",
        "outputId": "e867f0fd-bd25-4144-99c9-2ddb5323c766"
      },
      "execution_count": null,
      "outputs": [
        {
          "output_type": "execute_result",
          "data": {
            "text/plain": [
              "numpy.object_"
            ]
          },
          "metadata": {},
          "execution_count": 30
        }
      ]
    },
    {
      "cell_type": "code",
      "source": [
        "#Cadenas de texto\n",
        "np.strings"
      ],
      "metadata": {
        "colab": {
          "base_uri": "https://localhost:8080/"
        },
        "id": "Miev26nslj1U",
        "outputId": "69d07299-caa7-4559-d7f1-9eccfea7b3d7"
      },
      "execution_count": null,
      "outputs": [
        {
          "output_type": "execute_result",
          "data": {
            "text/plain": [
              "<module 'numpy.strings' from '/usr/local/lib/python3.11/dist-packages/numpy/strings/__init__.py'>"
            ]
          },
          "metadata": {},
          "execution_count": 33
        }
      ]
    },
    {
      "cell_type": "code",
      "source": [
        "np.bytes_"
      ],
      "metadata": {
        "colab": {
          "base_uri": "https://localhost:8080/"
        },
        "id": "eTQJD1USmInS",
        "outputId": "41dc50cb-1307-4a6c-d8cc-5610a2869241"
      },
      "execution_count": null,
      "outputs": [
        {
          "output_type": "execute_result",
          "data": {
            "text/plain": [
              "numpy.bytes_"
            ]
          },
          "metadata": {},
          "execution_count": 35
        }
      ]
    },
    {
      "cell_type": "code",
      "source": [
        "np.unicode # formato srings saco este codigo"
      ],
      "metadata": {
        "id": "1uQ_qMtjmVYc"
      },
      "execution_count": null,
      "outputs": []
    },
    {
      "cell_type": "markdown",
      "source": [
        "PROPIEDADES Y CARACTERISTICAS DE ENTORNOS"
      ],
      "metadata": {
        "id": "lLVowdpmmvPe"
      }
    },
    {
      "cell_type": "code",
      "source": [
        "array_3d"
      ],
      "metadata": {
        "colab": {
          "base_uri": "https://localhost:8080/"
        },
        "id": "vpCNTyx7nEY7",
        "outputId": "8ea93718-628e-4e80-8c6d-462fd915ff5d"
      },
      "execution_count": null,
      "outputs": [
        {
          "output_type": "execute_result",
          "data": {
            "text/plain": [
              "array([[10., 20., 30.],\n",
              "       [40., 50., 60.],\n",
              "       [70., 80., 90.]])"
            ]
          },
          "metadata": {},
          "execution_count": 49
        }
      ]
    },
    {
      "cell_type": "code",
      "source": [
        "array_2d"
      ],
      "metadata": {
        "colab": {
          "base_uri": "https://localhost:8080/"
        },
        "id": "OBw0ZPd2nIds",
        "outputId": "04436f36-a9d6-41b2-86a5-c387b61f2d2a"
      },
      "execution_count": null,
      "outputs": [
        {
          "output_type": "execute_result",
          "data": {
            "text/plain": [
              "array([[10, 20, 30],\n",
              "       [50, 60, 70]])"
            ]
          },
          "metadata": {},
          "execution_count": 37
        }
      ]
    },
    {
      "cell_type": "code",
      "source": [
        "array_2d.shape"
      ],
      "metadata": {
        "colab": {
          "base_uri": "https://localhost:8080/"
        },
        "id": "Eddbfp9ynWZ3",
        "outputId": "7bea96ab-8c04-4d35-8107-6b345a8da0f6"
      },
      "execution_count": null,
      "outputs": [
        {
          "output_type": "execute_result",
          "data": {
            "text/plain": [
              "(2, 3)"
            ]
          },
          "metadata": {},
          "execution_count": 39
        }
      ]
    },
    {
      "cell_type": "code",
      "source": [
        "#longitud\n",
        "len(array_3d)#el mayor dato de cantidad"
      ],
      "metadata": {
        "colab": {
          "base_uri": "https://localhost:8080/"
        },
        "id": "Q1Pw2A_SnoDj",
        "outputId": "14f51a6a-ad70-466c-ebf9-245271cebde2"
      },
      "execution_count": null,
      "outputs": [
        {
          "output_type": "execute_result",
          "data": {
            "text/plain": [
              "3"
            ]
          },
          "metadata": {},
          "execution_count": 43
        }
      ]
    },
    {
      "cell_type": "code",
      "source": [
        "#Numero de dimensiones\n",
        "array_3d.ndim"
      ],
      "metadata": {
        "colab": {
          "base_uri": "https://localhost:8080/"
        },
        "id": "uTUuKtRQoIVM",
        "outputId": "48d0e640-11b8-4f08-d05a-6638dcc60416"
      },
      "execution_count": null,
      "outputs": [
        {
          "output_type": "execute_result",
          "data": {
            "text/plain": [
              "2"
            ]
          },
          "metadata": {},
          "execution_count": 78
        }
      ]
    },
    {
      "cell_type": "code",
      "source": [
        "array_5d = np.array([\n",
        "    [[[(1,2,3,4,5),(4,5,6,5,4),(7,8,9,5,1,),(10,11,12,6,4),(13,14,15,5,4)]]],\n",
        "   [[[(1,2,3,4,5),(4,5,6,5,4),(7,8,9,5,1,),(10,11,12,6,4),(13,14,15,5,4)]]],\n",
        "    [[[(1,2,3,4,5),(4,5,6,5,4),(7,8,9,5,1,),(10,11,12,6,4),(13,14,15,5,4)]]],\n",
        "    [[[(1,2,3,4,5),(4,5,6,5,4),(7,8,9,5,1,),(10,11,12,6,4),(13,14,15,5,4)]]],\n",
        "    [[[(1,2,3,4,5),(4,5,6,5,4),(7,8,9,5,1,),(10,11,12,6,4),(13,14,15,5,4)]]]\n",
        "])\n",
        "array_5d"
      ],
      "metadata": {
        "colab": {
          "base_uri": "https://localhost:8080/"
        },
        "id": "OIdPmqzVpUBp",
        "outputId": "85cdd29b-9efc-46af-add8-7f79617a7dd4"
      },
      "execution_count": 97,
      "outputs": [
        {
          "output_type": "execute_result",
          "data": {
            "text/plain": [
              "array([[[[[ 1,  2,  3,  4,  5],\n",
              "          [ 4,  5,  6,  5,  4],\n",
              "          [ 7,  8,  9,  5,  1],\n",
              "          [10, 11, 12,  6,  4],\n",
              "          [13, 14, 15,  5,  4]]]],\n",
              "\n",
              "\n",
              "\n",
              "       [[[[ 1,  2,  3,  4,  5],\n",
              "          [ 4,  5,  6,  5,  4],\n",
              "          [ 7,  8,  9,  5,  1],\n",
              "          [10, 11, 12,  6,  4],\n",
              "          [13, 14, 15,  5,  4]]]],\n",
              "\n",
              "\n",
              "\n",
              "       [[[[ 1,  2,  3,  4,  5],\n",
              "          [ 4,  5,  6,  5,  4],\n",
              "          [ 7,  8,  9,  5,  1],\n",
              "          [10, 11, 12,  6,  4],\n",
              "          [13, 14, 15,  5,  4]]]],\n",
              "\n",
              "\n",
              "\n",
              "       [[[[ 1,  2,  3,  4,  5],\n",
              "          [ 4,  5,  6,  5,  4],\n",
              "          [ 7,  8,  9,  5,  1],\n",
              "          [10, 11, 12,  6,  4],\n",
              "          [13, 14, 15,  5,  4]]]],\n",
              "\n",
              "\n",
              "\n",
              "       [[[[ 1,  2,  3,  4,  5],\n",
              "          [ 4,  5,  6,  5,  4],\n",
              "          [ 7,  8,  9,  5,  1],\n",
              "          [10, 11, 12,  6,  4],\n",
              "          [13, 14, 15,  5,  4]]]]])"
            ]
          },
          "metadata": {},
          "execution_count": 97
        }
      ]
    },
    {
      "cell_type": "code",
      "source": [
        "array_5d.ndim"
      ],
      "metadata": {
        "colab": {
          "base_uri": "https://localhost:8080/"
        },
        "id": "-GbfIhk4rNmX",
        "outputId": "34d41028-aee3-40ed-a715-31e5b19f261f"
      },
      "execution_count": 98,
      "outputs": [
        {
          "output_type": "execute_result",
          "data": {
            "text/plain": [
              "5"
            ]
          },
          "metadata": {},
          "execution_count": 98
        }
      ]
    },
    {
      "cell_type": "code",
      "source": [
        "#Tipos de datos\n",
        "array_3d"
      ],
      "metadata": {
        "id": "YS7cdEcusbDk"
      },
      "execution_count": null,
      "outputs": []
    },
    {
      "cell_type": "code",
      "source": [],
      "metadata": {
        "id": "K6roa_gJtIih"
      },
      "execution_count": null,
      "outputs": []
    },
    {
      "cell_type": "code",
      "source": [
        "array_3d"
      ],
      "metadata": {
        "colab": {
          "base_uri": "https://localhost:8080/"
        },
        "id": "TAZfC_iTtIp_",
        "outputId": "2b6f905f-a299-46f8-8223-3efe6e9aa9f6"
      },
      "execution_count": 87,
      "outputs": [
        {
          "output_type": "execute_result",
          "data": {
            "text/plain": [
              "array([[10.6, 20. , 30. ],\n",
              "       [40. , 50. , 60. ],\n",
              "       [70. , 80. , 90. ]])"
            ]
          },
          "metadata": {},
          "execution_count": 87
        }
      ]
    },
    {
      "cell_type": "code",
      "source": [
        "#Convertir de un tipo a otro tipo de dato\n",
        "array_3d.astype(int)"
      ],
      "metadata": {
        "colab": {
          "base_uri": "https://localhost:8080/"
        },
        "id": "UoVs2w9WtIxz",
        "outputId": "c96db7ec-f968-43e7-89a3-13d3c2d767b1"
      },
      "execution_count": 88,
      "outputs": [
        {
          "output_type": "execute_result",
          "data": {
            "text/plain": [
              "array([[10, 20, 30],\n",
              "       [40, 50, 60],\n",
              "       [70, 80, 90]])"
            ]
          },
          "metadata": {},
          "execution_count": 88
        }
      ]
    },
    {
      "cell_type": "markdown",
      "source": [
        "OPRERADORES MATEMÀTICOS"
      ],
      "metadata": {
        "id": "NpXRRjlBuMMb"
      }
    },
    {
      "cell_type": "code",
      "source": [
        "array_id"
      ],
      "metadata": {
        "colab": {
          "base_uri": "https://localhost:8080/"
        },
        "id": "D556ZnXJuSD5",
        "outputId": "8ff663c0-8e8a-4505-8b28-43e261f45a6a"
      },
      "execution_count": 99,
      "outputs": [
        {
          "output_type": "execute_result",
          "data": {
            "text/plain": [
              "array([10, 20, 30])"
            ]
          },
          "metadata": {},
          "execution_count": 99
        }
      ]
    },
    {
      "cell_type": "code",
      "source": [
        "#Array de ejemplo\n",
        "array1=np.random.random((4,4))\n",
        "array1"
      ],
      "metadata": {
        "colab": {
          "base_uri": "https://localhost:8080/"
        },
        "id": "Jz-XJEbpuUHJ",
        "outputId": "df77ce2c-c252-45e8-d82a-d7b06f3af857"
      },
      "execution_count": 100,
      "outputs": [
        {
          "output_type": "execute_result",
          "data": {
            "text/plain": [
              "array([[0.09132214, 0.14317128, 0.19792759, 0.80723069],\n",
              "       [0.96121284, 0.13490935, 0.02564495, 0.12091487],\n",
              "       [0.74646779, 0.49932024, 0.49502625, 0.89116922],\n",
              "       [0.7690849 , 0.94853862, 0.0051304 , 0.99042886]])"
            ]
          },
          "metadata": {},
          "execution_count": 100
        }
      ]
    },
    {
      "cell_type": "code",
      "source": [
        "array2=np.random.random((4,4))\n",
        "array2"
      ],
      "metadata": {
        "colab": {
          "base_uri": "https://localhost:8080/"
        },
        "id": "anTRk_pYulE9",
        "outputId": "b541e7ce-4fd8-423e-a259-977b24cbc6c1"
      },
      "execution_count": 101,
      "outputs": [
        {
          "output_type": "execute_result",
          "data": {
            "text/plain": [
              "array([[0.48977795, 0.12116021, 0.68443702, 0.2614688 ],\n",
              "       [0.09268029, 0.1487432 , 0.03816408, 0.76078102],\n",
              "       [0.14477004, 0.17701113, 0.68097379, 0.44390368],\n",
              "       [0.22264864, 0.68722122, 0.28797486, 0.79391817]])"
            ]
          },
          "metadata": {},
          "execution_count": 101
        }
      ]
    },
    {
      "cell_type": "code",
      "source": [
        "array3=np.random.random((4,4))\n",
        "array3"
      ],
      "metadata": {
        "colab": {
          "base_uri": "https://localhost:8080/"
        },
        "id": "aCnol9pHuvmx",
        "outputId": "9e6b2acc-1b3d-4528-9448-5bfb88b60c09"
      },
      "execution_count": 102,
      "outputs": [
        {
          "output_type": "execute_result",
          "data": {
            "text/plain": [
              "array([[0.27238741, 0.27922333, 0.92003056, 0.61006634],\n",
              "       [0.89827987, 0.48027014, 0.70441835, 0.61583866],\n",
              "       [0.84421653, 0.00119924, 0.34114219, 0.49458726],\n",
              "       [0.87541466, 0.99253661, 0.13971691, 0.53079953]])"
            ]
          },
          "metadata": {},
          "execution_count": 102
        }
      ]
    },
    {
      "cell_type": "code",
      "source": [
        "#SUMA--- primera forma---\n",
        "array4=(array1+array2+array3)\n",
        "array4"
      ],
      "metadata": {
        "colab": {
          "base_uri": "https://localhost:8080/"
        },
        "id": "jsDtDWqDu_nO",
        "outputId": "cc7169e5-929d-4b72-ccfc-80ee105e80fa"
      },
      "execution_count": 103,
      "outputs": [
        {
          "output_type": "execute_result",
          "data": {
            "text/plain": [
              "array([[0.8534875 , 0.54355482, 1.80239516, 1.67876582],\n",
              "       [1.95217299, 0.76392269, 0.76822738, 1.49753455],\n",
              "       [1.73545435, 0.67753062, 1.51714224, 1.82966016],\n",
              "       [1.86714821, 2.62829645, 0.43282217, 2.31514656]])"
            ]
          },
          "metadata": {},
          "execution_count": 103
        }
      ]
    },
    {
      "cell_type": "code",
      "source": [
        "#segunda forma\n",
        "array4=np.add(array1,array2,array3)\n",
        "array4"
      ],
      "metadata": {
        "colab": {
          "base_uri": "https://localhost:8080/"
        },
        "id": "SHyurjrPvVVc",
        "outputId": "d958ac5c-a84b-4ff1-a85c-7666e9d7b43d"
      },
      "execution_count": 104,
      "outputs": [
        {
          "output_type": "execute_result",
          "data": {
            "text/plain": [
              "array([[0.58110009, 0.26433149, 0.8823646 , 1.06869949],\n",
              "       [1.05389312, 0.28365255, 0.06380902, 0.88169589],\n",
              "       [0.89123782, 0.67633138, 1.17600005, 1.3350729 ],\n",
              "       [0.99173355, 1.63575984, 0.29310526, 1.78434703]])"
            ]
          },
          "metadata": {},
          "execution_count": 104
        }
      ]
    },
    {
      "cell_type": "code",
      "source": [
        "#RESTA\n",
        "array4= array1-array2-array3\n",
        "array4"
      ],
      "metadata": {
        "colab": {
          "base_uri": "https://localhost:8080/"
        },
        "id": "nPmQRnGovo2B",
        "outputId": "174740b7-2bb6-4e82-96ad-0812ed5d2ca7"
      },
      "execution_count": 105,
      "outputs": [
        {
          "output_type": "execute_result",
          "data": {
            "text/plain": [
              "array([[-0.97955589, -0.24232042, -1.36887403, -0.52293759],\n",
              "       [-0.18536057, -0.29748641, -0.07632815, -1.52156205],\n",
              "       [-0.28954007, -0.35402227, -1.36194759, -0.88780735],\n",
              "       [-0.44529729, -1.37444244, -0.57594972, -1.58783635]])"
            ]
          },
          "metadata": {},
          "execution_count": 105
        }
      ]
    },
    {
      "cell_type": "code",
      "source": [
        "#resta--segunda forma-\n",
        "array4=np.subtract(array1,array2,array3)\n",
        "array4"
      ],
      "metadata": {
        "colab": {
          "base_uri": "https://localhost:8080/"
        },
        "id": "YJklbJWvwowT",
        "outputId": "739f22da-22bc-4dcb-ce3a-e67de7c4ce09"
      },
      "execution_count": 107,
      "outputs": [
        {
          "output_type": "execute_result",
          "data": {
            "text/plain": [
              "array([[-0.3984558 ,  0.02201107, -0.48650943,  0.54576189],\n",
              "       [ 0.86853255, -0.01383386, -0.01251913, -0.63986615],\n",
              "       [ 0.60169775,  0.32230911, -0.18594754,  0.44726555],\n",
              "       [ 0.54643626,  0.2613174 , -0.28284446,  0.19651068]])"
            ]
          },
          "metadata": {},
          "execution_count": 107
        }
      ]
    },
    {
      "cell_type": "code",
      "source": [
        "#MULTIPPLICACION\n",
        "array4=np.multiply(array1,array2,array3)\n",
        "array4"
      ],
      "metadata": {
        "colab": {
          "base_uri": "https://localhost:8080/"
        },
        "id": "ujoLm4_HwLlg",
        "outputId": "e907f40b-b798-45e1-dd6e-b0d72cc6ad63"
      },
      "execution_count": 106,
      "outputs": [
        {
          "output_type": "execute_result",
          "data": {
            "text/plain": [
              "array([[0.04472757, 0.01734666, 0.13546897, 0.21106564],\n",
              "       [0.08908548, 0.02006685, 0.00097872, 0.09198974],\n",
              "       [0.10806617, 0.08838524, 0.33709991, 0.39559329],\n",
              "       [0.17123571, 0.65185586, 0.00147743, 0.78631947]])"
            ]
          },
          "metadata": {},
          "execution_count": 106
        }
      ]
    },
    {
      "cell_type": "code",
      "source": [
        "#DIVIDIR\n",
        "array4=np.divide(array1,array2)\n",
        "array4"
      ],
      "metadata": {
        "colab": {
          "base_uri": "https://localhost:8080/"
        },
        "id": "skoBednuwnFM",
        "outputId": "7ab33661-2d81-418a-ddd6-76631c6543b2"
      },
      "execution_count": 108,
      "outputs": [
        {
          "output_type": "execute_result",
          "data": {
            "text/plain": [
              "array([[ 0.18645622,  1.18166914,  0.28918305,  3.08729263],\n",
              "       [10.37127611,  0.90699503,  0.6719657 ,  0.15893518],\n",
              "       [ 5.15623125,  2.8208409 ,  0.72693877,  2.00757342],\n",
              "       [ 3.45425372,  1.38025223,  0.01781545,  1.24752007]])"
            ]
          },
          "metadata": {},
          "execution_count": 108
        }
      ]
    },
    {
      "cell_type": "code",
      "source": [
        "# EXPONENTES\n",
        "np.exp(array1)"
      ],
      "metadata": {
        "colab": {
          "base_uri": "https://localhost:8080/"
        },
        "id": "tFKBpuC_xwHF",
        "outputId": "687ef577-5ce6-4348-e562-a7ec41f67d25"
      },
      "execution_count": 109,
      "outputs": [
        {
          "output_type": "execute_result",
          "data": {
            "text/plain": [
              "array([[1.0956219 , 1.15392743, 1.21887413, 2.24169144],\n",
              "       [2.61486596, 1.14443303, 1.02597661, 1.12852884],\n",
              "       [2.10953551, 1.64760092, 1.64054131, 2.43797852],\n",
              "       [2.15779076, 2.58193371, 1.00514358, 2.69238887]])"
            ]
          },
          "metadata": {},
          "execution_count": 109
        }
      ]
    },
    {
      "cell_type": "code",
      "source": [
        "# OPERADORES TRIGONOMETRICO (SEN-COS)\n",
        "np.sin(array1)\n"
      ],
      "metadata": {
        "colab": {
          "base_uri": "https://localhost:8080/"
        },
        "id": "Rd19UL4ZyDUz",
        "outputId": "3d86a59b-dcb3-4a16-f5a3-bed0274c1903"
      },
      "execution_count": 110,
      "outputs": [
        {
          "output_type": "execute_result",
          "data": {
            "text/plain": [
              "array([[0.09119526, 0.14268266, 0.1966378 , 0.72237496],\n",
              "       [0.81988655, 0.13450048, 0.02564214, 0.12062045],\n",
              "       [0.67905003, 0.47882888, 0.47505475, 0.77780714],\n",
              "       [0.69547799, 0.81256457, 0.00513038, 0.83626121]])"
            ]
          },
          "metadata": {},
          "execution_count": 110
        }
      ]
    },
    {
      "cell_type": "code",
      "source": [
        "np.cos(array1)"
      ],
      "metadata": {
        "colab": {
          "base_uri": "https://localhost:8080/"
        },
        "id": "7bkfMtoIyTIR",
        "outputId": "691304a2-a794-4bbe-f3c4-dbe1dce6d488"
      },
      "execution_count": 111,
      "outputs": [
        {
          "output_type": "execute_result",
          "data": {
            "text/plain": [
              "array([[0.99583303, 0.98976849, 0.9804762 , 0.69150156],\n",
              "       [0.57252602, 0.99091353, 0.99967119, 0.9926987 ],\n",
              "       [0.73409199, 0.87790825, 0.87995624, 0.62850303],\n",
              "       [0.7185474 , 0.58287118, 0.99998684, 0.54833128]])"
            ]
          },
          "metadata": {},
          "execution_count": 111
        }
      ]
    },
    {
      "cell_type": "code",
      "source": [
        "#LOGARITMO\n",
        "np.log(array1)"
      ],
      "metadata": {
        "colab": {
          "base_uri": "https://localhost:8080/"
        },
        "id": "WoySq2ZGyXef",
        "outputId": "2cb8f6ab-0a83-4455-c889-fc81db141f76"
      },
      "execution_count": 112,
      "outputs": [
        {
          "output_type": "execute_result",
          "data": {
            "text/plain": [
              "array([[-2.39336199, -1.94371361, -1.61985405, -0.21414579],\n",
              "       [-0.03955942, -2.00315224, -3.66340863, -2.11266855],\n",
              "       [-0.29240281, -0.69450762, -0.70314448, -0.11522095],\n",
              "       [-0.26255391, -0.05283278, -5.27257135, -0.00961724]])"
            ]
          },
          "metadata": {},
          "execution_count": 112
        }
      ]
    },
    {
      "cell_type": "markdown",
      "source": [
        "*COMPARACIONES ENTRE MATRICES*"
      ],
      "metadata": {
        "id": "26pby1rDyw9p"
      }
    },
    {
      "cell_type": "code",
      "source": [
        "# == -> comparar\n",
        "array1==array2"
      ],
      "metadata": {
        "colab": {
          "base_uri": "https://localhost:8080/"
        },
        "id": "r8brX1uky2Zs",
        "outputId": "099f24bf-dbdc-49dd-bbdb-4b93bc142d34"
      },
      "execution_count": 113,
      "outputs": [
        {
          "output_type": "execute_result",
          "data": {
            "text/plain": [
              "array([[False, False, False, False],\n",
              "       [False, False, False, False],\n",
              "       [False, False, False, False],\n",
              "       [False, False, False, False]])"
            ]
          },
          "metadata": {},
          "execution_count": 113
        }
      ]
    },
    {
      "cell_type": "code",
      "source": [
        "# Menor\n",
        "array1"
      ],
      "metadata": {
        "colab": {
          "base_uri": "https://localhost:8080/"
        },
        "id": "vabX_EMPzEVa",
        "outputId": "b27742f0-8191-4c04-e234-18487a1f85c9"
      },
      "execution_count": 114,
      "outputs": [
        {
          "output_type": "execute_result",
          "data": {
            "text/plain": [
              "array([[0.09132214, 0.14317128, 0.19792759, 0.80723069],\n",
              "       [0.96121284, 0.13490935, 0.02564495, 0.12091487],\n",
              "       [0.74646779, 0.49932024, 0.49502625, 0.89116922],\n",
              "       [0.7690849 , 0.94853862, 0.0051304 , 0.99042886]])"
            ]
          },
          "metadata": {},
          "execution_count": 114
        }
      ]
    },
    {
      "cell_type": "code",
      "source": [
        "array1<0.5"
      ],
      "metadata": {
        "colab": {
          "base_uri": "https://localhost:8080/"
        },
        "id": "oSZIOdVNzNR4",
        "outputId": "01fcf358-5af3-47c2-f4f6-773308be0f06"
      },
      "execution_count": 115,
      "outputs": [
        {
          "output_type": "execute_result",
          "data": {
            "text/plain": [
              "array([[ True,  True,  True, False],\n",
              "       [False,  True,  True,  True],\n",
              "       [False,  True,  True, False],\n",
              "       [False, False,  True, False]])"
            ]
          },
          "metadata": {},
          "execution_count": 115
        }
      ]
    },
    {
      "cell_type": "code",
      "source": [
        "array1>0.5"
      ],
      "metadata": {
        "colab": {
          "base_uri": "https://localhost:8080/"
        },
        "id": "ej_1KNTQzd1P",
        "outputId": "c8d1423d-d3b7-4639-ce87-02e3106055da"
      },
      "execution_count": 116,
      "outputs": [
        {
          "output_type": "execute_result",
          "data": {
            "text/plain": [
              "array([[False, False, False,  True],\n",
              "       [ True, False, False, False],\n",
              "       [ True, False, False,  True],\n",
              "       [ True,  True, False,  True]])"
            ]
          },
          "metadata": {},
          "execution_count": 116
        }
      ]
    },
    {
      "cell_type": "code",
      "source": [
        "# Menor igual o mayor igual\n",
        "array2"
      ],
      "metadata": {
        "colab": {
          "base_uri": "https://localhost:8080/"
        },
        "id": "nSSwXyJ3zZol",
        "outputId": "5517e437-0008-4902-d13a-ab2fa1fb14a9"
      },
      "execution_count": 117,
      "outputs": [
        {
          "output_type": "execute_result",
          "data": {
            "text/plain": [
              "array([[0.48977795, 0.12116021, 0.68443702, 0.2614688 ],\n",
              "       [0.09268029, 0.1487432 , 0.03816408, 0.76078102],\n",
              "       [0.14477004, 0.17701113, 0.68097379, 0.44390368],\n",
              "       [0.22264864, 0.68722122, 0.28797486, 0.79391817]])"
            ]
          },
          "metadata": {},
          "execution_count": 117
        }
      ]
    },
    {
      "cell_type": "code",
      "source": [
        "array2 >= 0.4"
      ],
      "metadata": {
        "colab": {
          "base_uri": "https://localhost:8080/"
        },
        "id": "WHnFdY8xzkeD",
        "outputId": "87150f29-88d7-4aa2-8170-17551456af1f"
      },
      "execution_count": 119,
      "outputs": [
        {
          "output_type": "execute_result",
          "data": {
            "text/plain": [
              "array([[ True, False,  True, False],\n",
              "       [False, False, False,  True],\n",
              "       [False, False,  True,  True],\n",
              "       [False,  True, False,  True]])"
            ]
          },
          "metadata": {},
          "execution_count": 119
        }
      ]
    },
    {
      "cell_type": "markdown",
      "source": [
        "*ESTADISTICAS Y FUNCIONES*"
      ],
      "metadata": {
        "id": "pEMhSgI7z0hg"
      }
    },
    {
      "cell_type": "code",
      "source": [
        "array6= np.random.random((5,5))\n",
        "array6"
      ],
      "metadata": {
        "colab": {
          "base_uri": "https://localhost:8080/"
        },
        "id": "JOIZ4dJWz4qg",
        "outputId": "289689b4-81c6-4b5a-f996-5bb1a6e1a4f4"
      },
      "execution_count": 124,
      "outputs": [
        {
          "output_type": "execute_result",
          "data": {
            "text/plain": [
              "array([[0.10495972, 0.72160517, 0.886103  , 0.02126262, 0.22117065],\n",
              "       [0.2319182 , 0.6713706 , 0.2112826 , 0.90670394, 0.26005394],\n",
              "       [0.36252855, 0.6401319 , 0.44881581, 0.8696736 , 0.85952104],\n",
              "       [0.31471463, 0.17443063, 0.27172838, 0.51557749, 0.07292556],\n",
              "       [0.56630918, 0.87001683, 0.19510255, 0.04970869, 0.65674733]])"
            ]
          },
          "metadata": {},
          "execution_count": 124
        }
      ]
    },
    {
      "cell_type": "code",
      "source": [
        "# suma de elementos-- primera forma\n",
        "suma_total=np.sum(array6)\n",
        "suma_total"
      ],
      "metadata": {
        "colab": {
          "base_uri": "https://localhost:8080/"
        },
        "id": "Bo1F3RbS0qEs",
        "outputId": "4f3471b6-5f7b-42aa-9430-ea77f061c760"
      },
      "execution_count": 126,
      "outputs": [
        {
          "output_type": "execute_result",
          "data": {
            "text/plain": [
              "np.float64(11.104362574831425)"
            ]
          },
          "metadata": {},
          "execution_count": 126
        }
      ]
    },
    {
      "cell_type": "code",
      "source": [
        "#segunda forma\n",
        "sumatotal=array6.sum()\n",
        "sumatotal"
      ],
      "metadata": {
        "colab": {
          "base_uri": "https://localhost:8080/"
        },
        "id": "aqY5xtEd04bq",
        "outputId": "d0d84e93-87a7-49d9-9ac2-7566ecf4058c"
      },
      "execution_count": 127,
      "outputs": [
        {
          "output_type": "execute_result",
          "data": {
            "text/plain": [
              "np.float64(11.104362574831425)"
            ]
          },
          "metadata": {},
          "execution_count": 127
        }
      ]
    },
    {
      "cell_type": "code",
      "source": [
        "#valor minimo y maximo\n",
        "array6.min() # max"
      ],
      "metadata": {
        "colab": {
          "base_uri": "https://localhost:8080/"
        },
        "id": "q0XvhCCI1Djh",
        "outputId": "1d75c5b9-69e3-4e43-bb1f-2fda95f03512"
      },
      "execution_count": 128,
      "outputs": [
        {
          "output_type": "execute_result",
          "data": {
            "text/plain": [
              "np.float64(0.021262622727902136)"
            ]
          },
          "metadata": {},
          "execution_count": 128
        }
      ]
    },
    {
      "cell_type": "code",
      "source": [
        "# valor min o max por fila o columna\n",
        "array6.max(axis=0) #axis 0 es columa y axis=1 filas"
      ],
      "metadata": {
        "colab": {
          "base_uri": "https://localhost:8080/"
        },
        "id": "0PRRV96G1Qx2",
        "outputId": "5dc5790a-54f9-4c6a-b8dd-5d7b4e71cf90"
      },
      "execution_count": 129,
      "outputs": [
        {
          "output_type": "execute_result",
          "data": {
            "text/plain": [
              "array([0.56630918, 0.87001683, 0.886103  , 0.90670394, 0.85952104])"
            ]
          },
          "metadata": {},
          "execution_count": 129
        }
      ]
    },
    {
      "cell_type": "code",
      "source": [
        "#fila acumulada\n",
        "array6.cumsum(axis=1)"
      ],
      "metadata": {
        "colab": {
          "base_uri": "https://localhost:8080/"
        },
        "id": "2MzBNV6H1rgi",
        "outputId": "94bf8cda-284d-4984-c29c-99e00857ce89"
      },
      "execution_count": 130,
      "outputs": [
        {
          "output_type": "execute_result",
          "data": {
            "text/plain": [
              "array([[0.10495972, 0.82656488, 1.71266789, 1.73393051, 1.95510116],\n",
              "       [0.2319182 , 0.90328879, 1.11457139, 2.02127533, 2.28132927],\n",
              "       [0.36252855, 1.00266045, 1.45147626, 2.32114985, 3.1806709 ],\n",
              "       [0.31471463, 0.48914525, 0.76087363, 1.27645112, 1.34937668],\n",
              "       [0.56630918, 1.43632601, 1.63142856, 1.68113725, 2.33788457]])"
            ]
          },
          "metadata": {},
          "execution_count": 130
        }
      ]
    },
    {
      "cell_type": "code",
      "source": [
        "#media arimetica\n",
        "np.mean(array6)"
      ],
      "metadata": {
        "colab": {
          "base_uri": "https://localhost:8080/"
        },
        "id": "9HGyoX1p138C",
        "outputId": "9f99d5f8-cfce-4f27-ac86-9fe94054193f"
      },
      "execution_count": 131,
      "outputs": [
        {
          "output_type": "execute_result",
          "data": {
            "text/plain": [
              "np.float64(0.444174502993257)"
            ]
          },
          "metadata": {},
          "execution_count": 131
        }
      ]
    },
    {
      "cell_type": "code",
      "source": [
        "#mediana\n",
        "np.median(array6)"
      ],
      "metadata": {
        "colab": {
          "base_uri": "https://localhost:8080/"
        },
        "id": "VqsQGlWU2Bww",
        "outputId": "7e366a6b-6efa-4a88-dac8-9399cc0fa26f"
      },
      "execution_count": 132,
      "outputs": [
        {
          "output_type": "execute_result",
          "data": {
            "text/plain": [
              "np.float64(0.3625285490854516)"
            ]
          },
          "metadata": {},
          "execution_count": 132
        }
      ]
    },
    {
      "cell_type": "code",
      "source": [
        "#desviacion estandar\n",
        "np.std(array6)"
      ],
      "metadata": {
        "colab": {
          "base_uri": "https://localhost:8080/"
        },
        "id": "Ar2z1SIJ2KSs",
        "outputId": "c8b28a7a-3957-4d5b-e492-7dc367140968"
      },
      "execution_count": 133,
      "outputs": [
        {
          "output_type": "execute_result",
          "data": {
            "text/plain": [
              "np.float64(0.2922041884094334)"
            ]
          },
          "metadata": {},
          "execution_count": 133
        }
      ]
    }
  ]
}