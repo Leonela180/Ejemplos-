{
  "cells": [
    {
      "cell_type": "markdown",
      "metadata": {
        "id": "view-in-github",
        "colab_type": "text"
      },
      "source": [
        "<a href=\"https://colab.research.google.com/github/Leonela180/Ejemplos-/blob/main/Ejercicios_pr%C3%A1cticos.ipynb\" target=\"_parent\"><img src=\"https://colab.research.google.com/assets/colab-badge.svg\" alt=\"Open In Colab\"/></a>"
      ]
    },
    {
      "cell_type": "markdown",
      "source": [
        "**EJERCICIOS DEL ALUMNO CLASE 1**"
      ],
      "metadata": {
        "id": "TU2Sb48ZP3vS"
      }
    },
    {
      "cell_type": "code",
      "source": [
        "#intalamos numpy\n",
        "import numpy as np\n",
        "#np seria el modulo"
      ],
      "metadata": {
        "id": "dBsEeiZ2LDAb"
      },
      "execution_count": 1,
      "outputs": []
    },
    {
      "cell_type": "markdown",
      "source": [
        "*Ejercicio 1*\n"
      ],
      "metadata": {
        "id": "o8LHxBsnPt-b"
      }
    },
    {
      "cell_type": "code",
      "source": [
        "#cursos = variable\n",
        "cursos = np.array([\"Matemáticas\", \"Física\", \"Química\", \"Historia\", \"Lengua\"])\n",
        "cursos"
      ],
      "metadata": {
        "colab": {
          "base_uri": "https://localhost:8080/"
        },
        "id": "lJGjYMhCPtDD",
        "outputId": "71ee1623-5884-4eeb-af82-eb758c3b56db"
      },
      "execution_count": 2,
      "outputs": [
        {
          "output_type": "stream",
          "name": "stdout",
          "text": [
            "['Matemáticas' 'Física' 'Química' 'Historia' 'Lengua']\n"
          ]
        }
      ]
    },
    {
      "cell_type": "markdown",
      "source": [
        "*Ejercicio 2*"
      ],
      "metadata": {
        "id": "cKSS1bl-QNJD"
      }
    },
    {
      "cell_type": "code",
      "source": [
        "#forma corta 1\n",
        "t_cursos = np.array([\"Matemáticas\", \"Física\", \"Química\", \"Historia\", \"Lengua\"])\n",
        "for curso in t_cursos:  # Recorremos cada curso\n",
        "    print(\"Yo estudio\", curso)"
      ],
      "metadata": {
        "colab": {
          "base_uri": "https://localhost:8080/"
        },
        "id": "fiOo2yXYQPTs",
        "outputId": "ec17273f-e65d-4470-b9ff-9b9a99af28bf"
      },
      "execution_count": 3,
      "outputs": [
        {
          "output_type": "stream",
          "name": "stdout",
          "text": [
            "Yo estudio Matemáticas\n",
            "Yo estudio Física\n",
            "Yo estudio Química\n",
            "Yo estudio Historia\n",
            "Yo estudio Lengua\n"
          ]
        }
      ]
    },
    {
      "cell_type": "code",
      "source": [
        "#forma mas extensa 2\n",
        "cursos=np.array([\"Matemáticas\",\"Física\",\"Química\",\"Historia\",\"Lengua\"])\n",
        "\n",
        "print(\"Yo estudio \",cursos[0],)\n",
        "print(\"Yo estudio \",cursos[1],)\n",
        "print(\"Yo estudio \",cursos[2],)\n",
        "print(\"Yo estudio \",cursos[3],)\n",
        "print(\"Yo estudio \",cursos[4],)\n",
        "# DOS FORMAS MISMO RESULTADO\n"
      ],
      "metadata": {
        "colab": {
          "base_uri": "https://localhost:8080/"
        },
        "id": "AR6igRYQQrS8",
        "outputId": "99543d52-0375-4274-aaff-d3a14d0f1eea"
      },
      "execution_count": 4,
      "outputs": [
        {
          "output_type": "stream",
          "name": "stdout",
          "text": [
            "Yo estudio  Matemáticas\n",
            "Yo estudio  Física\n",
            "Yo estudio  Química\n",
            "Yo estudio  Historia\n",
            "Yo estudio  Lengua\n"
          ]
        }
      ]
    },
    {
      "cell_type": "markdown",
      "source": [
        "*Ejercicio 3*\n"
      ],
      "metadata": {
        "id": "W76MHfVVRBic"
      }
    },
    {
      "cell_type": "code",
      "source": [
        "#Primera forma\n",
        "t_cursos = np.array([\"Matemáticas\", \"Física\", \"Química\", \"Historia\", \"Lengua\"])\n",
        "notas = []\n",
        "\n",
        "for curso in t_cursos:\n",
        "    nota = float(input(f\"¿Qué nota sacaste en {curso}? \"))\n",
        "    notas.append(nota)\n",
        "\n",
        "notas = np.array(notas)\n",
        "print(\"-------------------------\")\n",
        "print(\"    TUS NOTAS SON ...\")\n",
        "print(\"------------------------\")\n",
        "\n",
        "for i in range(len(t_cursos)):\n",
        "    print(f\"En {t_cursos[i]} has sacado {notas[i]}\")\n"
      ],
      "metadata": {
        "colab": {
          "base_uri": "https://localhost:8080/"
        },
        "id": "H4JDmoa3REYs",
        "outputId": "f79c28b4-9de5-4674-85e5-3501d0aa8085"
      },
      "execution_count": 32,
      "outputs": [
        {
          "output_type": "stream",
          "name": "stdout",
          "text": [
            "¿Qué nota sacaste en Matemáticas? 15\n",
            "¿Qué nota sacaste en Física? 14\n",
            "¿Qué nota sacaste en Química? 12\n",
            "¿Qué nota sacaste en Historia? 1\n",
            "¿Qué nota sacaste en Lengua? 9\n",
            "-------------------------\n",
            "    TUS NOTAS SON ...\n",
            "------------------------\n",
            "En Matemáticas has sacado 15.0\n",
            "En Física has sacado 14.0\n",
            "En Química has sacado 12.0\n",
            "En Historia has sacado 1.0\n",
            "En Lengua has sacado 9.0\n"
          ]
        }
      ]
    },
    {
      "cell_type": "code",
      "source": [
        "#Segunda forma\n",
        "cursos=np.array([\"Matemáticas\",\"Física\",\"Química\",\"Historia\",\"Lengua\"])\n",
        "\n",
        "uno = input(\"¿Que nota saco en \"+cursos[0]+\"?: \")\n",
        "dos = input(\"¿Que nota saco en \"+cursos[1]+\"?: \")\n",
        "tres = input(\"¿Que nota saco en \"+cursos[2]+\"?: \")\n",
        "cuatro = input(\"¿Que nota saco en \"+cursos[3]+\"?: \")\n",
        "cinco = input(\"¿Que nota saco en \"+cursos[4]+\"?: \")\n",
        "print(\"------------------------------------\")\n",
        "print(\"En \"+cursos[0]+\" has sacado \"+uno)\n",
        "print(\"En \"+cursos[1]+\" has sacado \"+dos)\n",
        "print(\"En \"+cursos[2]+\" has sacado \"+tres)\n",
        "print(\"En \"+cursos[3]+\" has sacado \"+cuatro)\n",
        "print(\"En \"+cursos[4]+\" has sacado \"+cinco)"
      ],
      "metadata": {
        "colab": {
          "base_uri": "https://localhost:8080/"
        },
        "id": "5BSbSLXeSbGV",
        "outputId": "7c2b918e-2493-4e78-ba4f-81c8961eddeb"
      },
      "execution_count": 8,
      "outputs": [
        {
          "output_type": "stream",
          "name": "stdout",
          "text": [
            "¿Que nota saco en Matemáticas?: 15\n",
            "¿Que nota saco en Física?: 14\n",
            "¿Que nota saco en Química?: 12\n",
            "¿Que nota saco en Historia?: 1\n",
            "¿Que nota saco en Lengua?: 15\n",
            "------------------------------------\n",
            "En Matemáticas has sacado 15\n",
            "En Física has sacado 14\n",
            "En Química has sacado 12\n",
            "En Historia has sacado 1\n",
            "En Lengua has sacado 15\n"
          ]
        }
      ]
    },
    {
      "cell_type": "markdown",
      "source": [
        "*Ejercicio 4*"
      ],
      "metadata": {
        "id": "O3jJT4EyS3l-"
      }
    },
    {
      "cell_type": "code",
      "source": [
        "#Primera forma// cantidad de acuerdo al rango\n",
        "numeros = []\n",
        "\n",
        "for i in range(3):  # rango 3\n",
        "    numero =(input(f\"Introduce el número ganador {i+1}: \"))\n",
        "    numeros.append(numero)\n",
        "\n",
        "    array = np.array(numeros)\n",
        "    ordenena = np.sort(array)\n",
        "\n",
        "numeros.sort()\n",
        "print(\"Números ganadores ordenados:\", numeros)"
      ],
      "metadata": {
        "colab": {
          "base_uri": "https://localhost:8080/"
        },
        "id": "AQOeLOl-S568",
        "outputId": "9c70af94-47ef-4fdd-9139-b596856f396c"
      },
      "execution_count": 9,
      "outputs": [
        {
          "output_type": "stream",
          "name": "stdout",
          "text": [
            "Introduce el número ganador 1: 15\n",
            "Introduce el número ganador 2: 1\n",
            "Introduce el número ganador 3: 0\n",
            "Números ganadores ordenados: ['0', '1', '15']\n"
          ]
        }
      ]
    },
    {
      "cell_type": "code",
      "source": [
        "#Seguna forma // cantidad que la persona desee\n",
        "numeros = input(\"Introduce los números ganadores separados por comas: \")\n",
        "lista = [int(n) for n in numeros.split(\",\")]\n",
        "ganadores = np.array(lista)\n",
        "ordenados = np.sort(ganadores)\n",
        "\n",
        "print(\"Números ganadores ordenados:\", ordenados)\n"
      ],
      "metadata": {
        "colab": {
          "base_uri": "https://localhost:8080/"
        },
        "id": "4H-TM-V4TSTd",
        "outputId": "ff646d30-7e54-4c90-9b7c-e07f6267bbb0"
      },
      "execution_count": 10,
      "outputs": [
        {
          "output_type": "stream",
          "name": "stdout",
          "text": [
            "Introduce los números ganadores separados por comas: 14,2,10,0,47,03\n",
            "Números ganadores ordenados: [ 0  2  3 10 14 47]\n"
          ]
        }
      ]
    },
    {
      "cell_type": "markdown",
      "source": [
        "*Ejercicio 5*"
      ],
      "metadata": {
        "id": "b5mmRuGzU2St"
      }
    },
    {
      "cell_type": "code",
      "source": [
        "numeros = np.array(range(1, 11))# rango ira del 1 al 10\n",
        "inverso = numeros[::-1]# -1 es invertir\n",
        "\n",
        "print(\"Números en orden inverso:\", \", \".join(map(str, inverso)))\n",
        "# Convertimos los números a texto y los unimos con comas"
      ],
      "metadata": {
        "colab": {
          "base_uri": "https://localhost:8080/"
        },
        "id": "KEdk_JpiUKXM",
        "outputId": "e1f2c2cb-a289-4274-b0d3-c6319c3704d2"
      },
      "execution_count": 11,
      "outputs": [
        {
          "output_type": "stream",
          "name": "stdout",
          "text": [
            "Números en orden inverso: 10, 9, 8, 7, 6, 5, 4, 3, 2, 1\n"
          ]
        }
      ]
    },
    {
      "cell_type": "markdown",
      "source": [
        "*Ejercicio 6*"
      ],
      "metadata": {
        "id": "ojccjq4AVlmE"
      }
    },
    {
      "cell_type": "code",
      "source": [
        "t_cursos = np.array([\"Matemáticas\", \"Física\", \"Química\", \"Historia\", \"Lengua\"])\n",
        "notas = []\n",
        "\n",
        "for curso in t_cursos:\n",
        "    nota_ = float(input(f\"¿Qué nota sacaste en {curso}? \"))\n",
        "    notas.append(nota_)\n",
        "\n",
        "notas = np.array(notas)\n",
        "\n",
        "reprobadas = t_cursos[notas < 10.5]\n",
        "\n",
        "print(\"Debes repetir las siguientes asignaturas:\")\n",
        "print(reprobadas)\n",
        "print(\"Esfuerzate más :) \")"
      ],
      "metadata": {
        "colab": {
          "base_uri": "https://localhost:8080/"
        },
        "id": "LW23v1LxVpRp",
        "outputId": "ac5e1c95-f7b9-41ae-c6a9-92ea387b7f17"
      },
      "execution_count": 19,
      "outputs": [
        {
          "output_type": "stream",
          "name": "stdout",
          "text": [
            "¿Qué nota sacaste en Matemáticas? 15\n",
            "¿Qué nota sacaste en Física? 12\n",
            "¿Qué nota sacaste en Química? 10.0\n",
            "¿Qué nota sacaste en Historia? 10.2\n",
            "¿Qué nota sacaste en Lengua? 6\n",
            "Debes repetir las siguientes asignaturas:\n",
            "['Química' 'Historia' 'Lengua']\n",
            "Esfuerzate más :) \n"
          ]
        }
      ]
    },
    {
      "cell_type": "markdown",
      "source": [
        "*`Ejercicio 7`*"
      ],
      "metadata": {
        "id": "bY5n_2X-X_I2"
      }
    },
    {
      "cell_type": "code",
      "source": [
        "abecedario = np.array(list(\"abcdefghijklmnopqrstuvwxyz\"))\n",
        "indices = np.array([i for i in range(len(abecedario)) if (i+1) % 3 != 0])\n",
        "nuevo = abecedario[indices]\n",
        "\n",
        "print(\"Abecedario sin letras en posiciones múltiplos de 3:\")\n",
        "print(nuevo)"
      ],
      "metadata": {
        "colab": {
          "base_uri": "https://localhost:8080/"
        },
        "id": "93raHi4qWz-N",
        "outputId": "c86c1076-cb04-4eb9-91e0-8a3e59f5b204"
      },
      "execution_count": 23,
      "outputs": [
        {
          "output_type": "stream",
          "name": "stdout",
          "text": [
            "Abecedario sin letras en posiciones múltiplos de 3:\n",
            "['a' 'b' 'd' 'e' 'g' 'h' 'j' 'k' 'm' 'n' 'p' 'q' 's' 't' 'v' 'w' 'y' 'z']\n"
          ]
        }
      ]
    },
    {
      "cell_type": "markdown",
      "source": [
        "*Ejercicio 8*"
      ],
      "metadata": {
        "id": "NinwEZZ6YX0l"
      }
    },
    {
      "cell_type": "code",
      "source": [
        "palabra = input(\"Escribe una palabra: \")\n",
        "if palabra == palabra[::-1]:\n",
        "    print(\"Es un palíndromo\")\n",
        "else:\n",
        "    print(\"No es un palíndromo\")"
      ],
      "metadata": {
        "colab": {
          "base_uri": "https://localhost:8080/"
        },
        "id": "EAEJ1sQ5YaT2",
        "outputId": "17a9b61f-1ef1-4509-e050-2f5b1d7e9dc3"
      },
      "execution_count": 25,
      "outputs": [
        {
          "output_type": "stream",
          "name": "stdout",
          "text": [
            "Escribe una palabra: oso\n",
            "Es un palíndromo\n"
          ]
        }
      ]
    },
    {
      "cell_type": "markdown",
      "source": [
        "*Ejercicio 9*"
      ],
      "metadata": {
        "id": "X604LATlYh5_"
      }
    },
    {
      "cell_type": "code",
      "source": [
        "palabra = input(\"Escribe una palabra: \")\n",
        "vocales = \"aeiou\"\n",
        "\n",
        "for v in vocales:\n",
        "    print(f\"La vocal {v} aparece {palabra.lower().count(v)} veces\")\n"
      ],
      "metadata": {
        "colab": {
          "base_uri": "https://localhost:8080/"
        },
        "id": "fhPqMvPNYk3Z",
        "outputId": "8787517d-0567-4ccc-e700-d08d405dfa71"
      },
      "execution_count": 26,
      "outputs": [
        {
          "output_type": "stream",
          "name": "stdout",
          "text": [
            "Escribe una palabra: murcielago\n",
            "La vocal a aparece 1 veces\n",
            "La vocal e aparece 1 veces\n",
            "La vocal i aparece 1 veces\n",
            "La vocal o aparece 1 veces\n",
            "La vocal u aparece 1 veces\n"
          ]
        }
      ]
    },
    {
      "cell_type": "markdown",
      "source": [
        "*Ejercicio 10*"
      ],
      "metadata": {
        "id": "AV3P_jrwYumF"
      }
    },
    {
      "cell_type": "code",
      "source": [
        "precios = np.array([50, 75, 46, 22, 80, 65, 8])\n",
        "print(\"El precio menor es:\", precios.min())\n",
        "print(\"El precio mayor es:\", precios.max())\n"
      ],
      "metadata": {
        "colab": {
          "base_uri": "https://localhost:8080/"
        },
        "id": "o_q-YKYMYzD9",
        "outputId": "d13a1531-bc70-4c11-92e1-5536eaefecc8"
      },
      "execution_count": 27,
      "outputs": [
        {
          "output_type": "stream",
          "name": "stdout",
          "text": [
            "El precio menor es: 8\n",
            "El precio mayor es: 80\n"
          ]
        }
      ]
    },
    {
      "cell_type": "markdown",
      "source": [
        "*Ejercicio 11*"
      ],
      "metadata": {
        "id": "wXiDjGadY5_J"
      }
    },
    {
      "cell_type": "code",
      "source": [
        "v1 = np.array([1, 2, 3])\n",
        "v2 = np.array([-1, 0, 2])\n",
        "\n",
        "producto = np.dot(v1, v2)\n",
        "print(\"El producto escalar es:\", producto)"
      ],
      "metadata": {
        "colab": {
          "base_uri": "https://localhost:8080/"
        },
        "id": "Kpe0w7SAY873",
        "outputId": "23d13c06-29cc-4ddb-b28f-2293893bf239"
      },
      "execution_count": 28,
      "outputs": [
        {
          "output_type": "stream",
          "name": "stdout",
          "text": [
            "El producto escalar es: 5\n"
          ]
        }
      ]
    },
    {
      "cell_type": "markdown",
      "source": [
        "*Ejercicio 12*"
      ],
      "metadata": {
        "id": "-h8sGJMRZaUd"
      }
    },
    {
      "cell_type": "code",
      "source": [
        "A = np.array([[1, 2], [3, 4]])\n",
        "B = np.array([[2, 0], [1, 2]])\n",
        "\n",
        "producto = np.dot(A, B)\n",
        "print(\"El producto de las matrices es:\")\n",
        "print(producto)"
      ],
      "metadata": {
        "colab": {
          "base_uri": "https://localhost:8080/"
        },
        "id": "SY3C6vmAZYkJ",
        "outputId": "e7097b01-2069-4fac-eb3b-cdf2834c1e8b"
      },
      "execution_count": 29,
      "outputs": [
        {
          "output_type": "stream",
          "name": "stdout",
          "text": [
            "El producto de las matrices es:\n",
            "[[ 4  4]\n",
            " [10  8]]\n"
          ]
        }
      ]
    },
    {
      "cell_type": "markdown",
      "source": [
        "*Ejercicio 13*"
      ],
      "metadata": {
        "id": "goZP1oulZiBW"
      }
    },
    {
      "cell_type": "code",
      "source": [
        "entrada = input(\"Escribe números separados por coma: \")\n",
        "numeros = np.array([float(n) for n in entrada.split(\",\")])\n",
        "\n",
        "media = np.mean(numeros)\n",
        "desviacion = np.std(numeros)\n",
        "\n",
        "print(\"Media:\", media)\n",
        "print(\"Desviación típica:\", desviacion)\n",
        "# DATO IMPORTANTE\n",
        "# dt medida estadística que indica la dispersión o variabilidad de un conjunto de datos con respecto a su media"
      ],
      "metadata": {
        "colab": {
          "base_uri": "https://localhost:8080/"
        },
        "id": "y7Vbt5rIZn_Q",
        "outputId": "f84f04ca-3838-4fc2-ae1d-b64ae7e21408"
      },
      "execution_count": 30,
      "outputs": [
        {
          "output_type": "stream",
          "name": "stdout",
          "text": [
            "Escribe números separados por coma: 1,5,4,2,8,10\n",
            "Media: 5.0\n",
            "Desviación típica: 3.1622776601683795\n"
          ]
        }
      ]
    }
  ],
  "metadata": {
    "colab": {
      "provenance": [],
      "include_colab_link": true
    },
    "kernelspec": {
      "display_name": "Python 3",
      "name": "python3"
    }
  },
  "nbformat": 4,
  "nbformat_minor": 0
}